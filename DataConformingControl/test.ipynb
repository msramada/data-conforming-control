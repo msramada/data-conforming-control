{
 "cells": [
  {
   "cell_type": "code",
   "execution_count": 1,
   "metadata": {},
   "outputs": [],
   "source": [
    "using JuMP\n",
    "using MosekTools, SCS\n",
    "using LinearAlgebra\n",
    "using ControlSystemsBase"
   ]
  },
  {
   "cell_type": "code",
   "execution_count": 53,
   "metadata": {},
   "outputs": [
    {
     "name": "stdout",
     "output_type": "stream",
     "text": [
      "[1.0 1.1466]"
     ]
    }
   ],
   "source": [
    "A = [1 0.1; 0 1];\n",
    "B = [0; 1];\n",
    "sys = ss(A,B,I,0,1)\n",
    "Q = I\n",
    "R = I\n",
    "Kd = lqr(sys,Q,R)\n",
    "sys_c= d2c(sys)\n",
    "Ac = sys_c.A\n",
    "Bc = sys_c.B\n",
    "Kc = lqr(sys_c,Q,R)\n",
    "print(round.(Kc,digits=4))"
   ]
  },
  {
   "cell_type": "code",
   "execution_count": 57,
   "metadata": {},
   "outputs": [
    {
     "data": {
      "text/plain": [
       "1×2 Matrix{Float64}:\n",
       " -0.910226  -1.03446"
      ]
     },
     "metadata": {},
     "output_type": "display_data"
    }
   ],
   "source": [
    "model = Model(Mosek.Optimizer);\n",
    "n = 2\n",
    "@variable(model, Σ[i=1:n, j=1:n], PSD)\n",
    "@variable(model, Z[i=1:1, j=1:1], PSD)\n",
    "@variable(model, Y[i=1:n, j=1:n], PSD)\n",
    "@variable(model, W[i=1:1, j=1:1], PSD)\n",
    "@variable(model, L[i=1:1, j=1:n])\n",
    "\n",
    "@objective(model, Min, tr(Q*Σ)+tr(R*Z)+tr(Y)+5*tr(W))\n",
    "@constraint(model, Σ-1e-5*I >= 0, PSDCone())\n",
    "# Z >= KΓK'\n",
    "@constraint(model, [Z L; L' Σ] >= 0, PSDCone())\n",
    "@constraint(model, [Y I; I Σ] >= 0, PSDCone())\n",
    "@constraint(model, [W K; K' I] >= 0, PSDCone())\n",
    "# Lyupanov\n",
    "#@constraint(model, Ac*Σ + Bc*L + (Ac*Σ + Bc*L)'+3I >= 0, PSDCone())\n",
    "@constraint(model, Ac*Σ + Bc*L + (Ac*Σ + Bc*L)'+3I <= 0, PSDCone())\n",
    "set_silent(model)\n",
    "optimize!(model);\n",
    "Σ, Z, L = value.(Σ), value.(Z), value.(L)\n",
    "K₁ = L * inv(Σ) "
   ]
  },
  {
   "cell_type": "code",
   "execution_count": 66,
   "metadata": {},
   "outputs": [
    {
     "ename": "ErrorException",
     "evalue": "Addition between an array and a JuMP scalar is not supported: instead of `x + y`, do `x .+ y` for element-wise addition.",
     "output_type": "error",
     "traceback": [
      "Addition between an array and a JuMP scalar is not supported: instead of `x + y`, do `x .+ y` for element-wise addition.\n",
      "\n",
      "Stacktrace:\n",
      " [1] error(s::String)\n",
      "   @ Base ./error.jl:35\n",
      " [2] _throw_operator_error(#unused#::typeof(MutableArithmetics.add_mul), x::Matrix{VariableRef})\n",
      "   @ JuMP ~/.julia/packages/JuMP/7rBNn/src/operators.jl:470\n",
      " [3] operate!!(op::typeof(MutableArithmetics.add_mul), #unused#::AffExpr, x::Matrix{VariableRef})\n",
      "   @ JuMP ~/.julia/packages/JuMP/7rBNn/src/operators.jl:506\n",
      " [4] macro expansion\n",
      "   @ ~/.julia/packages/MutableArithmetics/SXYDN/src/rewrite.jl:340 [inlined]\n",
      " [5] macro expansion\n",
      "   @ ~/.julia/packages/JuMP/7rBNn/src/macros.jl:257 [inlined]\n",
      " [6] macro expansion\n",
      "   @ ~/.julia/packages/JuMP/7rBNn/src/macros/@objective.jl:66 [inlined]\n",
      " [7] top-level scope\n",
      "   @ ~/Documents/GitHub/Data-Conforming-Control/DataConformingControl/test.ipynb:8"
     ]
    }
   ],
   "source": [
    "model = Model(Mosek.Optimizer);\n",
    "n = 2\n",
    "@variable(model, Σ[i=1:n, j=1:n], PSD)\n",
    "@variable(model, Zᵢ[i=1:n, j=1:n], PSD)\n",
    "@variable(model, Z[i=1:1, j=1:1], PSD)\n",
    "@variable(model, L[i=1:1, j=1:n])\n",
    "\n",
    "@objective(model, Min, tr(Q*Σ)+tr(R*Z)+10*tr(Zᵢ)+tr(L*ones(n,1)))\n",
    "@constraint(model, Σ-1e-5*I >= 0, PSDCone())\n",
    "# Z >= KΓK'\n",
    "@constraint(model, [Z L; L' Σ] >= 0, PSDCone())\n",
    "@constraint(model, [Zᵢ I; I Σ] >= 0, PSDCone())\n",
    "# Lyupanov\n",
    "@constraint(model, [Σ-A*Σ*A'-B*L*A'-A*L'*B'-3I B*L; L'*B' Σ]>=0, PSDCone())\n",
    "set_silent(model)\n",
    "optimize!(model);\n",
    "Σ, Z, L = value.(Σ), value.(Z), value.(L)\n",
    "K₂ = L * inv(Σ)\n",
    "println(round.(-Kd,digits=4))\n",
    "println(round.(K₂,digits=4))"
   ]
  },
  {
   "cell_type": "code",
   "execution_count": 42,
   "metadata": {},
   "outputs": [
    {
     "data": {
      "text/plain": [
       "1×2 Matrix{Float64}:\n",
       " -0.274775  -0.698508"
      ]
     },
     "metadata": {},
     "output_type": "display_data"
    }
   ],
   "source": [
    "model = Model(Mosek.Optimizer);\n",
    "n = 2\n",
    "@variable(model, Σ[i=1:n, j=1:n], PSD)\n",
    "@variable(model, Z[i=1:n, j=1:n], PSD)\n",
    "@variable(model, L[i=1:1, j=1:n])\n",
    "@objective(model, Min, tr(Z))\n",
    "@constraint(model, Σ-1e-5*I >= 0, PSDCone())\n",
    "# Z >= X^{-1}   \n",
    "@constraint(model, [Z I; I Σ] >= 0, PSDCone())\n",
    "# Lyupanov\n",
    "@constraint(model, [Σ (A*Σ+B*L)'; (A*Σ+B*L) X] >= 0, PSDCone());\n",
    "set_silent(model)\n",
    "optimize!(model);\n",
    "\n",
    "L, Σ, Z = value.(L), value.(Σ), value.(Z)\n",
    "K = L * inv(Σ) "
   ]
  },
  {
   "cell_type": "code",
   "execution_count": 16,
   "metadata": {},
   "outputs": [],
   "source": []
  },
  {
   "cell_type": "code",
   "execution_count": 17,
   "metadata": {},
   "outputs": [
    {
     "data": {
      "text/plain": [
       "([-1.4902018149978286e6 -3.842934205993686e7], [5.404510815271053e7 -1.7836972517953224e7; -1.7836972517953224e7 6.041490172454586e7], [2.327537352178023e-8 5.553688204393768e-9; 5.553688204393768e-9 2.120936661759748e-8])"
      ]
     },
     "metadata": {},
     "output_type": "display_data"
    }
   ],
   "source": []
  },
  {
   "cell_type": "code",
   "execution_count": 18,
   "metadata": {},
   "outputs": [
    {
     "data": {
      "text/plain": [
       "1×2 Matrix{Float64}:\n",
       " -0.263149  -0.713783"
      ]
     },
     "metadata": {},
     "output_type": "display_data"
    }
   ],
   "source": []
  },
  {
   "cell_type": "code",
   "execution_count": 19,
   "metadata": {},
   "outputs": [
    {
     "data": {
      "text/plain": [
       "2-element Vector{Float64}:\n",
       " 0.325214498168043\n",
       " 0.961002535440085"
      ]
     },
     "metadata": {},
     "output_type": "display_data"
    }
   ],
   "source": [
    "eigen(A+B*K).values"
   ]
  },
  {
   "cell_type": "code",
   "execution_count": 20,
   "metadata": {},
   "outputs": [],
   "source": []
  }
 ],
 "metadata": {
  "kernelspec": {
   "display_name": "Julia 1.9.3",
   "language": "julia",
   "name": "julia-1.9"
  },
  "language_info": {
   "file_extension": ".jl",
   "mimetype": "application/julia",
   "name": "julia",
   "version": "1.9.3"
  }
 },
 "nbformat": 4,
 "nbformat_minor": 2
}

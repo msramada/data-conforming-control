{
 "cells": [
  {
   "cell_type": "code",
   "execution_count": 1,
   "metadata": {},
   "outputs": [],
   "source": [
    "using JuMP\n",
    "using MosekTools, SCS\n",
    "using LinearAlgebra\n",
    "using ControlSystemsBase"
   ]
  },
  {
   "cell_type": "code",
   "execution_count": 53,
   "metadata": {},
   "outputs": [
    {
     "name": "stdout",
     "output_type": "stream",
     "text": [
      "[1.0 1.1466]"
     ]
    }
   ],
   "source": [
    "A = [1 0.1; 0 1];\n",
    "B = [0; 1];\n",
    "sys = ss(A,B,I,0,1)\n",
    "Q = I\n",
    "R = I\n",
    "Kd = lqr(sys,Q,R)\n",
    "sys_c= d2c(sys)\n",
    "Ac = sys_c.A\n",
    "Bc = sys_c.B\n",
    "Kc = lqr(sys_c,Q,R)\n",
    "print(round.(Kc,digits=4))"
   ]
  },
  {
   "cell_type": "code",
   "execution_count": 57,
   "metadata": {},
   "outputs": [
    {
     "data": {
      "text/plain": [
       "1×2 Matrix{Float64}:\n",
       " -0.910226  -1.03446"
      ]
     },
     "metadata": {},
     "output_type": "display_data"
    }
   ],
   "source": [
    "model = Model(Mosek.Optimizer);\n",
    "n = 2\n",
    "@variable(model, Σ[i=1:n, j=1:n], PSD)\n",
    "@variable(model, Z[i=1:1, j=1:1], PSD)\n",
    "@variable(model, Y[i=1:n, j=1:n], PSD)\n",
    "@variable(model, W[i=1:1, j=1:1], PSD)\n",
    "@variable(model, L[i=1:1, j=1:n])\n",
    "\n",
    "@objective(model, Min, tr(Q*Σ)+tr(R*Z)+tr(Y)+5*tr(W))\n",
    "@constraint(model, Σ-1e-5*I >= 0, PSDCone())\n",
    "# Z >= KΓK'\n",
    "@constraint(model, [Z L; L' Σ] >= 0, PSDCone())\n",
    "@constraint(model, [Y I; I Σ] >= 0, PSDCone())\n",
    "@constraint(model, [W K; K' I] >= 0, PSDCone())\n",
    "# Lyupanov\n",
    "#@constraint(model, Ac*Σ + Bc*L + (Ac*Σ + Bc*L)'+3I >= 0, PSDCone())\n",
    "@constraint(model, Ac*Σ + Bc*L + (Ac*Σ + Bc*L)'+3I <= 0, PSDCone())\n",
    "set_silent(model)\n",
    "optimize!(model);\n",
    "Σ, Z, L = value.(Σ), value.(Z), value.(L)\n",
    "K₁ = L * inv(Σ) "
   ]
  },
  {
   "cell_type": "code",
   "execution_count": null,
   "metadata": {},
   "outputs": [
    {
     "data": {
      "text/plain": [
       "#47 (generic function with 1 method)"
      ]
     },
     "metadata": {},
     "output_type": "display_data"
    }
   ],
   "source": [
    "function f(x::Vector{Float64}, K::Matrix{Float64}, V::Matrix{Float64})\n",
    "    dxdt = zero.(x)\n",
    "    u = K * x\n",
    "    dxdt[1] = [0,1.0]' * x + 0.0 * u[1]\n",
    "    dxdt[2] = [0,0.0]' * x + 1.0 * u[1]\n",
    "\n",
    "    return dxdt\n",
    "end\n",
    "\n",
    "f_SDE = (x, p, t) -> f(x, K_SDE, V)\n",
    "g_SDE = (x, p, t) -> diag(sqrt(V))"
   ]
  },
  {
   "cell_type": "code",
   "execution_count": null,
   "metadata": {},
   "outputs": [],
   "source": [
    "using DifferentialEquations"
   ]
  },
  {
   "cell_type": "code",
   "execution_count": null,
   "metadata": {},
   "outputs": [
    {
     "data": {
      "text/plain": [
       "simulate_K (generic function with 1 method)"
      ]
     },
     "metadata": {},
     "output_type": "display_data"
    }
   ],
   "source": [
    "K_SDE = -lqr(Continuous, [0 1.0; 0 0], [0;1.0;;], 2 * I, I)\n",
    "Ts = 0.1\n",
    "V = diagm([1.0,1]);\n",
    "x₀ = zeros(Float64, 2,)\n",
    "function simulate_K(K_SDE::Matrix{Float64}, x₀::Vector{Float64}, N::Int)\n",
    "    prob_SDE = SDEProblem(f_SDE, g_SDE, x₀, (0.0, N * Ts))\n",
    "    sol = solve(prob_SDE, EM(), dt = Ts);\n",
    "    display(prob_SDE)\n",
    "    Soln_as_mat = reduce(vcat,transpose.(sol.u))'\n",
    "    return Soln_as_mat    \n",
    "end"
   ]
  },
  {
   "cell_type": "code",
   "execution_count": 67,
   "metadata": {},
   "outputs": [
    {
     "name": "stdout",
     "output_type": "stream",
     "text": [
      "[-0.5891 -0.7119]\n",
      "[-0.6286 -0.7051]\n"
     ]
    }
   ],
   "source": [
    "model = Model(Mosek.Optimizer);\n",
    "n = 2\n",
    "@variable(model, Σ[i=1:n, j=1:n], PSD)\n",
    "@variable(model, Zᵢ[i=1:n, j=1:n], PSD)\n",
    "@variable(model, Z[i=1:1, j=1:1], PSD)\n",
    "@variable(model, L[i=1:1, j=1:n])\n",
    "\n",
    "@objective(model, Min, tr(Q*Σ)+tr(R*Z)+10*tr(Zᵢ)+tr(L*ones(n,1)))\n",
    "@constraint(model, Σ-1e-5*I >= 0, PSDCone())\n",
    "# Z >= KΓK'\n",
    "@constraint(model, [Z L; L' Σ] >= 0, PSDCone())\n",
    "@constraint(model, [Zᵢ I; I Σ] >= 0, PSDCone())\n",
    "# Lyupanov\n",
    "@constraint(model, [Σ-A*Σ*A'-B*L*A'-A*L'*B'-3I B*L; L'*B' Σ]>=0, PSDCone())\n",
    "set_silent(model)\n",
    "optimize!(model);\n",
    "Σ, Z, L = value.(Σ), value.(Z), value.(L)\n",
    "K₂ = L * inv(Σ)\n",
    "println(round.(-Kd,digits=4))\n",
    "println(round.(K₂,digits=4))"
   ]
  },
  {
   "cell_type": "code",
   "execution_count": 42,
   "metadata": {},
   "outputs": [
    {
     "data": {
      "text/plain": [
       "1×2 Matrix{Float64}:\n",
       " -0.274775  -0.698508"
      ]
     },
     "metadata": {},
     "output_type": "display_data"
    }
   ],
   "source": [
    "model = Model(Mosek.Optimizer);\n",
    "n = 2\n",
    "@variable(model, Σ[i=1:n, j=1:n], PSD)\n",
    "@variable(model, Z[i=1:n, j=1:n], PSD)\n",
    "@variable(model, L[i=1:1, j=1:n])\n",
    "@objective(model, Min, tr(Z))\n",
    "@constraint(model, Σ-1e-5*I >= 0, PSDCone())\n",
    "# Z >= X^{-1}   \n",
    "@constraint(model, [Z I; I Σ] >= 0, PSDCone())\n",
    "# Lyupanov\n",
    "@constraint(model, [Σ (A*Σ+B*L)'; (A*Σ+B*L) X] >= 0, PSDCone());\n",
    "set_silent(model)\n",
    "optimize!(model);\n",
    "\n",
    "L, Σ, Z = value.(L), value.(Σ), value.(Z)\n",
    "K = L * inv(Σ) "
   ]
  },
  {
   "cell_type": "code",
   "execution_count": 16,
   "metadata": {},
   "outputs": [],
   "source": []
  },
  {
   "cell_type": "code",
   "execution_count": 17,
   "metadata": {},
   "outputs": [
    {
     "data": {
      "text/plain": [
       "([-1.4902018149978286e6 -3.842934205993686e7], [5.404510815271053e7 -1.7836972517953224e7; -1.7836972517953224e7 6.041490172454586e7], [2.327537352178023e-8 5.553688204393768e-9; 5.553688204393768e-9 2.120936661759748e-8])"
      ]
     },
     "metadata": {},
     "output_type": "display_data"
    }
   ],
   "source": []
  },
  {
   "cell_type": "code",
   "execution_count": 18,
   "metadata": {},
   "outputs": [
    {
     "data": {
      "text/plain": [
       "1×2 Matrix{Float64}:\n",
       " -0.263149  -0.713783"
      ]
     },
     "metadata": {},
     "output_type": "display_data"
    }
   ],
   "source": []
  },
  {
   "cell_type": "code",
   "execution_count": 19,
   "metadata": {},
   "outputs": [
    {
     "data": {
      "text/plain": [
       "2-element Vector{Float64}:\n",
       " 0.325214498168043\n",
       " 0.961002535440085"
      ]
     },
     "metadata": {},
     "output_type": "display_data"
    }
   ],
   "source": [
    "eigen(A+B*K).values"
   ]
  },
  {
   "cell_type": "code",
   "execution_count": 20,
   "metadata": {},
   "outputs": [],
   "source": []
  }
 ],
 "metadata": {
  "kernelspec": {
   "display_name": "Julia 1.9.3",
   "language": "julia",
   "name": "julia-1.9"
  },
  "language_info": {
   "file_extension": ".jl",
   "mimetype": "application/julia",
   "name": "julia",
   "version": "1.9.3"
  }
 },
 "nbformat": 4,
 "nbformat_minor": 2
}

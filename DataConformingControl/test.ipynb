{
 "cells": [
  {
   "cell_type": "code",
   "execution_count": 45,
   "metadata": {},
   "outputs": [],
   "source": [
    "using JuMP\n",
    "using MosekTools, SCS\n",
    "using LinearAlgebra\n",
    "using ControlSystemsBase"
   ]
  },
  {
   "cell_type": "code",
   "execution_count": 53,
   "metadata": {},
   "outputs": [],
   "source": [
    "@variable(model, P[i=1:n, j=1:n], PSD)\n",
    "@constraint(model, P >= 0, PSDCone())\n",
    "@constraint(model, A'*P + P*A >= -Q, PSDCone())\n",
    "@constraint(model, A'*P + P*A <= -Q, PSDCone());"
   ]
  },
  {
   "cell_type": "code",
   "execution_count": 39,
   "metadata": {},
   "outputs": [
    {
     "data": {
      "text/plain": [
       "true"
      ]
     },
     "metadata": {},
     "output_type": "display_data"
    }
   ],
   "source": [
    "set_silent(model)\n",
    "optimize!(model);\n",
    "P = value.(P);\n",
    "# Test result:\n",
    "A'*P + P*A ≈ -Q"
   ]
  },
  {
   "cell_type": "code",
   "execution_count": 55,
   "metadata": {},
   "outputs": [
    {
     "data": {
      "text/plain": [
       "2.0"
      ]
     },
     "metadata": {},
     "output_type": "display_data"
    }
   ],
   "source": [
    "A = [1 0.1; 0 1];\n",
    "B = [0; 1];\n",
    "sys = ss(A,B,I,0,1)\n",
    "Q = I\n",
    "R = I"
   ]
  },
  {
   "cell_type": "code",
   "execution_count": 122,
   "metadata": {},
   "outputs": [
    {
     "data": {
      "text/plain": [
       "1×2 Matrix{Float64}:\n",
       " 0.589088  0.711884"
      ]
     },
     "metadata": {},
     "output_type": "display_data"
    }
   ],
   "source": [
    "K₁ = lqr(sys,Q,R)"
   ]
  },
  {
   "cell_type": "code",
   "execution_count": 128,
   "metadata": {},
   "outputs": [
    {
     "data": {
      "text/plain": [
       "1×2 Matrix{Float64}:\n",
       " 1.0  1.14659"
      ]
     },
     "metadata": {},
     "output_type": "display_data"
    }
   ],
   "source": [
    "sys_c= d2c(sys)\n",
    "Ac = sys_c.A\n",
    "Bc = sys_c.B\n",
    "K₂ = lqr(sys_c,Q,R)"
   ]
  },
  {
   "cell_type": "code",
   "execution_count": 129,
   "metadata": {},
   "outputs": [
    {
     "data": {
      "text/plain": [
       "2-element Vector{Float64}:\n",
       " -0.9962046266657549\n",
       " -0.10038098330731127"
      ]
     },
     "metadata": {},
     "output_type": "display_data"
    }
   ],
   "source": [
    "eigen(Ac-Bc*K₂).values"
   ]
  },
  {
   "cell_type": "code",
   "execution_count": 141,
   "metadata": {},
   "outputs": [],
   "source": [
    "model = Model(Mosek.Optimizer);\n",
    "n = 2\n",
    "@variable(model, Σ[i=1:n, j=1:n], PSD)\n",
    "@variable(model, Z[i=1:1, j=1:1], PSD)\n",
    "@variable(model, L[i=1:1, j=1:n])\n",
    "\n",
    "@objective(model, Min, tr(Q*Σ)+tr(R*Z))\n",
    "@constraint(model, Σ-1e-5*I >= 0, PSDCone())\n",
    "# Z >= KΓK'\n",
    "@constraint(model, [Z L; L' Σ] >= 0, PSDCone())\n",
    "# Lyupanov\n",
    "@constraint(model, Ac*Σ + Bc*L + (Ac*Σ + Bc*L)'+3I >= 0, PSDCone())\n",
    "@constraint(model, Ac*Σ + Bc*L + (Ac*Σ + Bc*L)'+3I <= 0, PSDCone());"
   ]
  },
  {
   "cell_type": "code",
   "execution_count": 142,
   "metadata": {},
   "outputs": [],
   "source": [
    "set_silent(model)\n",
    "optimize!(model);"
   ]
  },
  {
   "cell_type": "code",
   "execution_count": 143,
   "metadata": {},
   "outputs": [
    {
     "data": {
      "text/plain": [
       "([6.563020716823327 -5.2638488352766535; -5.2638488352766535 5.026978630648215], [1.1011068507989084;;], [-0.5276978606399902 -0.4999999937871439])"
      ]
     },
     "metadata": {},
     "output_type": "display_data"
    }
   ],
   "source": [
    "Σ, Z, L = value.(Σ), value.(Z), value.(L)"
   ]
  },
  {
   "cell_type": "code",
   "execution_count": 144,
   "metadata": {},
   "outputs": [
    {
     "data": {
      "text/plain": [
       "2-element Vector{Float64}:\n",
       " -0.99631318577213\n",
       " -0.10038125113819096"
      ]
     },
     "metadata": {},
     "output_type": "display_data"
    }
   ],
   "source": [
    "K = L * inv(Σ)\n",
    "eigen(Ac+Bc*K).values"
   ]
  },
  {
   "cell_type": "code",
   "execution_count": 115,
   "metadata": {},
   "outputs": [
    {
     "data": {
      "text/plain": [
       "Eigen{Float64, Float64, Matrix{Float64}, Vector{Float64}}\n",
       "values:\n",
       "2-element Vector{Float64}:\n",
       " 1.2523844287250598e-8\n",
       " 1.5829566948841742e-8\n",
       "vectors:\n",
       "2×2 Matrix{Float64}:\n",
       " -0.935365  -0.353684\n",
       " -0.353684   0.935365"
      ]
     },
     "metadata": {},
     "output_type": "display_data"
    }
   ],
   "source": [
    "eigen(Σ-I-(A+B*K)*inv(Γ)*(A+B*K)')"
   ]
  },
  {
   "cell_type": "code",
   "execution_count": 82,
   "metadata": {},
   "outputs": [
    {
     "data": {
      "text/plain": [
       "2.0000003221936478"
      ]
     },
     "metadata": {},
     "output_type": "display_data"
    }
   ],
   "source": [
    "tr(Q*Σ)+tr(R*Z)"
   ]
  },
  {
   "cell_type": "code",
   "execution_count": 102,
   "metadata": {},
   "outputs": [],
   "source": [
    "model = Model(Mosek.Optimizer);\n",
    "n = 2\n",
    "@variable(model, X[i=1:n, j=1:n], PSD)\n",
    "@variable(model, Z[i=1:n, j=1:n], PSD)\n",
    "@variable(model, L[i=1:1, j=1:n])\n",
    "@objective(model, Min, tr(Z))\n",
    "@constraint(model, X-1e-5*I >= 0, PSDCone())\n",
    "# Z >= X^{-1}   \n",
    "@constraint(model, [Z I; I X] >= 0, PSDCone())\n",
    "# Lyupanov\n",
    "@constraint(model, [X (A*X+B*L)'; (A*X+B*L) X] >= 0, PSDCone());"
   ]
  },
  {
   "cell_type": "code",
   "execution_count": 103,
   "metadata": {},
   "outputs": [],
   "source": [
    "set_silent(model)\n",
    "optimize!(model);"
   ]
  },
  {
   "cell_type": "code",
   "execution_count": 104,
   "metadata": {},
   "outputs": [
    {
     "data": {
      "text/plain": [
       "([-1.4902018149978286e6 -3.842934205993686e7], [5.404510815271053e7 -1.7836972517953224e7; -1.7836972517953224e7 6.041490172454586e7], [2.327537352178023e-8 5.553688204393768e-9; 5.553688204393768e-9 2.120936661759748e-8])"
      ]
     },
     "metadata": {},
     "output_type": "display_data"
    }
   ],
   "source": [
    "L, X, Z = value.(L), value.(X), value.(Z)"
   ]
  },
  {
   "cell_type": "code",
   "execution_count": 105,
   "metadata": {},
   "outputs": [
    {
     "data": {
      "text/plain": [
       "1×2 Matrix{Float64}:\n",
       " -0.263149  -0.713783"
      ]
     },
     "metadata": {},
     "output_type": "display_data"
    }
   ],
   "source": [
    "K = L * inv(X) "
   ]
  },
  {
   "cell_type": "code",
   "execution_count": 107,
   "metadata": {},
   "outputs": [
    {
     "data": {
      "text/plain": [
       "2-element Vector{Float64}:\n",
       " 0.325214498168043\n",
       " 0.961002535440085"
      ]
     },
     "metadata": {},
     "output_type": "display_data"
    }
   ],
   "source": [
    "eigen(A+B*K).values"
   ]
  },
  {
   "cell_type": "code",
   "execution_count": null,
   "metadata": {},
   "outputs": [],
   "source": []
  }
 ],
 "metadata": {
  "kernelspec": {
   "display_name": "Julia 1.9.3",
   "language": "julia",
   "name": "julia-1.9"
  },
  "language_info": {
   "file_extension": ".jl",
   "mimetype": "application/julia",
   "name": "julia",
   "version": "1.9.3"
  }
 },
 "nbformat": 4,
 "nbformat_minor": 2
}
